{
 "cells": [
  {
   "cell_type": "code",
   "execution_count": 20,
   "metadata": {},
   "outputs": [
    {
     "name": "stdout",
     "output_type": "stream",
     "text": [
      "The even numbers on the list are:\n",
      "2 4 6 8 10 24 26 28 30 32 "
     ]
    }
   ],
   "source": [
    "#1 Write a Python program to print the even numbers from a given list.\n",
    "\n",
    "def print_even_numbers(numbers):\n",
    "    for num in numbers:\n",
    "        if num % 2 == 0:\n",
    "            print(num, end=\" \")\n",
    "\n",
    "list = [1, 2, 3, 4, 5, 6, 7, 8, 9, 10, 11, 13, 15, 17, 19, 24, 26, 28, 30, 32]\n",
    "print(\"The even numbers on the list are:\")\n",
    "print_even_numbers(list)"
   ]
  },
  {
   "cell_type": "code",
   "execution_count": 1,
   "metadata": {},
   "outputs": [
    {
     "name": "stdout",
     "output_type": "stream",
     "text": [
      "The even numbers on the list are:\n",
      "10 12 14 16 18 20 22 24 26 28 30 32 34 36 38 40 42 44 46 48 50 52 54 56 58 60 "
     ]
    }
   ],
   "source": [
    "#2 Generate a Python list of all the even numbers between 10 to 60.\n",
    "def print_even_numbers():\n",
    "    for num in range(10,61):\n",
    "        if num % 2 == 0:\n",
    "            print(num, end=\" \")\n",
    "\n",
    "print(\"The even numbers on the list are:\")\n",
    "print_even_numbers()"
   ]
  },
  {
   "cell_type": "code",
   "execution_count": 3,
   "metadata": {},
   "outputs": [
    {
     "name": "stdout",
     "output_type": "stream",
     "text": [
      "Prof. Gella: Salary = PHP 85000\n",
      "Dr. Pulido: Salary = PHP 90000\n",
      "Prof. Manaois: Salary = PHP 70000\n",
      "Dr. Caranguian: Salary = PHP 90000\n",
      "Prof. Santos: Salary = PHP 70000\n"
     ]
    }
   ],
   "source": [
    "#3 Write a program to create a function show_feu_professor() using the following conditions:\n",
    "def show_feu_professor(name, salary = 70000):\n",
    "    print(f\"{name}: Salary = PHP {salary}\")\n",
    "\n",
    "show_feu_professor(\"Prof. Gella\", 85000)\n",
    "show_feu_professor(\"Dr. Pulido\", 90000)\n",
    "show_feu_professor(\"Prof. Manaois\")\n",
    "show_feu_professor(\"Dr. Caranguian\", 90000)\n",
    "show_feu_professor(\"Prof. Santos\")\n"
   ]
  }
 ],
 "metadata": {
  "kernelspec": {
   "display_name": "Python 3",
   "language": "python",
   "name": "python3"
  },
  "language_info": {
   "codemirror_mode": {
    "name": "ipython",
    "version": 3
   },
   "file_extension": ".py",
   "mimetype": "text/x-python",
   "name": "python",
   "nbconvert_exporter": "python",
   "pygments_lexer": "ipython3",
   "version": "3.12.8"
  }
 },
 "nbformat": 4,
 "nbformat_minor": 2
}
