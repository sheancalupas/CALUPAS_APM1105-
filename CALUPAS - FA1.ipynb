{
 "cells": [
  {
   "cell_type": "code",
   "execution_count": 2,
   "metadata": {},
   "outputs": [
    {
     "name": "stdout",
     "output_type": "stream",
     "text": [
      "1.) There are 2562 seconds in 42 minutes 42 seconds.\n",
      "\n"
     ]
    }
   ],
   "source": [
    "# 1. How many seconds are there in 42 minutes 42 seconds?\n",
    "minutes = 42\n",
    "seconds = 42\n",
    "total_seconds = (minutes * 60) + seconds\n",
    "print('1.) There are %.0f seconds in %.0f minutes %.0f seconds.\\n' %(total_seconds,minutes,seconds))\n"
   ]
  },
  {
   "cell_type": "code",
   "execution_count": 3,
   "metadata": {},
   "outputs": [
    {
     "name": "stdout",
     "output_type": "stream",
     "text": [
      "2.) 10.00 kilometers is equal to 6.21 miles.\n",
      "\n"
     ]
    }
   ],
   "source": [
    "# 2. How many miles are there in 10 kilometers? (Hint: there are 1.61 kilometers in a mile.)\n",
    "kilometers = 10\n",
    "km_per_mile = 1.61\n",
    "total_miles = kilometers / km_per_mile\n",
    "print('2.) %.2f kilometers is equal to %.2f miles.\\n' %(kilometers,total_miles))"
   ]
  },
  {
   "cell_type": "code",
   "execution_count": 4,
   "metadata": {},
   "outputs": [
    {
     "name": "stdout",
     "output_type": "stream",
     "text": [
      "3.a.) The average pace per mile is 6 minutes 52 seconds.\n",
      "\n",
      "3.b.) The average speed is 8.727654 mph.\n"
     ]
    }
   ],
   "source": [
    "# 3. If you run a 10 kilometer race in 42 minutes 42 seconds, what is your average pace (time per mile in minutes and seconds)? What is your average speed in miles per hour? \n",
    "distance_ran_in_km = 10\n",
    "km_per_mile = 1.61\n",
    "miles = distance_ran_in_km / km_per_mile\n",
    "\n",
    "minutes = 42\n",
    "seconds = 42\n",
    "time_in_seconds = (minutes * 60) + seconds\n",
    "\n",
    "pace_per_mile_in_seconds = time_in_seconds / miles # Time per mile in seconds\n",
    "pace_minutes = int(pace_per_mile_in_seconds // 60) # Divide in whole minutes\n",
    "pace_seconds = int(pace_per_mile_in_seconds % 60) # Remainders as seconds\n",
    "print('3.a.) The average pace per mile is %.0f minutes %.0f seconds.\\n' %(pace_minutes,pace_seconds))\n",
    "\n",
    "hours = time_in_seconds / 3600\n",
    "mph = miles / hours\n",
    "print('3.b.) The average speed is %f mph.' %(mph))"
   ]
  }
 ],
 "metadata": {
  "kernelspec": {
   "display_name": "Python 3",
   "language": "python",
   "name": "python3"
  },
  "language_info": {
   "codemirror_mode": {
    "name": "ipython",
    "version": 3
   },
   "file_extension": ".py",
   "mimetype": "text/x-python",
   "name": "python",
   "nbconvert_exporter": "python",
   "pygments_lexer": "ipython3",
   "version": "3.12.8"
  }
 },
 "nbformat": 4,
 "nbformat_minor": 2
}
