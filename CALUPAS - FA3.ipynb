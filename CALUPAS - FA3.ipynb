{
 "cells": [
  {
   "cell_type": "code",
   "execution_count": 24,
   "metadata": {},
   "outputs": [
    {
     "name": "stdout",
     "output_type": "stream",
     "text": [
      "The volume of the sphere is: 523.5987755982989\n"
     ]
    }
   ],
   "source": [
    "#1 The volume of a sphere with radius r is (4/3)πr^3. What is the volume of a sphere with radius 5?\n",
    "import math\n",
    "z = math.pi\n",
    "r = 5\n",
    "sphere_volume = (4 / 3) * z * r * r *r\n",
    "\n",
    "print(\"The volume of the sphere is:\", sphere_volume)"
   ]
  },
  {
   "cell_type": "code",
   "execution_count": 23,
   "metadata": {},
   "outputs": [
    {
     "name": "stdout",
     "output_type": "stream",
     "text": [
      "Wholesale cost for 60 copies of a book: $ 945.45\n"
     ]
    }
   ],
   "source": [
    "#2 Suppose the cover price of a book is $24.95, but bookstores get a 40% discount. Shipping costs $3 for the first copy and 75 cents for each additional copy. What is the total wholesale cost for 60 copies?\n",
    "def wholesale_cost():\n",
    "    book_price = 24.95\n",
    "    discount = 0.40\n",
    "    shipping_first = 3.00\n",
    "    shipping_additional = 0.75\n",
    "    copies = 60\n",
    "\n",
    "    discounted_book_total = book_price * (1 - discount) * copies\n",
    "    total_shipping_cost = shipping_first + ((copies - 1) * shipping_additional)\n",
    "\n",
    "    return discounted_book_total + total_shipping_cost\n",
    "\n",
    "print(\"Wholesale cost for 60 copies of a book: $\", round(wholesale_cost(), 2))"
   ]
  },
  {
   "cell_type": "code",
   "execution_count": null,
   "metadata": {},
   "outputs": [
    {
     "data": {
      "text/plain": [
       "'I get home for breakfast at 7:30 am.'"
      ]
     },
     "execution_count": 33,
     "metadata": {},
     "output_type": "execute_result"
    }
   ],
   "source": [
    "#3 If I leave my house at 6:52 am and run 1 mile at an easy pace (8:15 per mile), then 3 miles at tempo (7:12 per mile) and 1 mile at an easy pace again, what time do I get home for breakfast?\n",
    "def breakfast_time():\n",
    "    start_hour = 6\n",
    "    start_minutes = 52\n",
    "    start_total_secs = (start_hour * 3600) + (start_minutes * 60)\n",
    "    \n",
    "    easy_pace_total_secs = (8 * 60) + 15\n",
    "    tempo_pace_total_secs = (7 * 60) + 12\n",
    "\n",
    "    run_time_in_secs = (2 * easy_pace_total_secs) + (3 * tempo_pace_total_secs)\n",
    "    end_time_in_secs = start_total_secs + run_time_in_secs\n",
    "    end_hour = int(end_time_in_secs // 3600)\n",
    "    end_mins = int(end_time_in_secs % 3600) // 60\n",
    "\n",
    "    return f\"I get home for breakfast at {end_hour}:{end_mins:02d} am.\"\n",
    "\n",
    "breakfast_time()"
   ]
  }
 ],
 "metadata": {
  "kernelspec": {
   "display_name": "Python 3",
   "language": "python",
   "name": "python3"
  },
  "language_info": {
   "codemirror_mode": {
    "name": "ipython",
    "version": 3
   },
   "file_extension": ".py",
   "mimetype": "text/x-python",
   "name": "python",
   "nbconvert_exporter": "python",
   "pygments_lexer": "ipython3",
   "version": "3.12.8"
  }
 },
 "nbformat": 4,
 "nbformat_minor": 2
}
