{
 "cells": [
  {
   "cell_type": "markdown",
   "id": "38682292-907e-4b52-8740-78efe67d92e1",
   "metadata": {},
   "source": [
    "# Recursion VS While Loop"
   ]
  },
  {
   "cell_type": "code",
   "execution_count": null,
   "id": "82493ca8-7f54-4319-aedd-2ed35dedf075",
   "metadata": {},
   "outputs": [],
   "source": [
    "def countdown(n):\n",
    "    if n <= 0:\n",
    "        print('Blastoff!')\n",
    "    else:\n",
    "        print(n)\n",
    "    countdown(n-1)"
   ]
  },
  {
   "cell_type": "code",
   "execution_count": 17,
   "id": "912647f7-c564-458d-84fe-eefa2974a49a",
   "metadata": {},
   "outputs": [
    {
     "name": "stdout",
     "output_type": "stream",
     "text": [
      "\n",
      "Testing for n = 100\n",
      "Recursion: 0.0000000000 seconds\n",
      "While loop: 0.0000000000 seconds\n",
      "Conclusion: Both has equal render times\n",
      "\n",
      "Testing for n = 1000\n",
      "Recursion: 0.0000000000 seconds\n",
      "While loop: 0.0000000000 seconds\n",
      "Conclusion: Both has equal render times\n",
      "\n",
      "Testing for n = 10000\n",
      "Recursion: 0.0019934177 seconds\n",
      "While loop: 0.0000000000 seconds\n",
      "Conclusion: While loop is faster than Recursion\n"
     ]
    }
   ],
   "source": [
    "import time\n",
    "\n",
    "def recur_countdown(n):\n",
    "    if n <= 0:\n",
    "        pass\n",
    "    else:\n",
    "        recur_countdown(n-1)\n",
    "\n",
    "def while_countdown(n):\n",
    "    while n > 0:\n",
    "        n = n - 1\n",
    "\n",
    "def test(func, n):\n",
    "    start = time.time()\n",
    "    func(n)\n",
    "    end = time.time()\n",
    "    return end - start\n",
    "\n",
    "for n in [100, 1000, 10000]:\n",
    "    print(f\"\\nTesting for n = {n}\")\n",
    "    try:\n",
    "        recur_time = test(recur_countdown, n)\n",
    "        print(f\"Recursion: {recur_time:.10f} seconds\")\n",
    "    except RecursionError:\n",
    "        print(\"Recursion: RecursionError\")\n",
    "\n",
    "    while_time = test(while_countdown, n)\n",
    "    print(f\"While loop: {while_time:.10f} seconds\")\n",
    "    \n",
    "    if recur_time > while_time:\n",
    "        print(\"Conclusion: While loop is faster than Recursion\")\n",
    "    elif recur_time < while_time:\n",
    "        print(\"Conclusion: Recursion is faster than While loop\")\n",
    "    elif recur_time == while_time:\n",
    "        print(\"Conclusion: Both has equal render times\")\n",
    "    else:\n",
    "        print(\"Conclusion: Unable to determine\")\n"
   ]
  }
 ],
 "metadata": {
  "kernelspec": {
   "display_name": "Python [conda env:base] *",
   "language": "python",
   "name": "conda-base-py"
  },
  "language_info": {
   "codemirror_mode": {
    "name": "ipython",
    "version": 3
   },
   "file_extension": ".py",
   "mimetype": "text/x-python",
   "name": "python",
   "nbconvert_exporter": "python",
   "pygments_lexer": "ipython3",
   "version": "3.12.7"
  }
 },
 "nbformat": 4,
 "nbformat_minor": 5
}
