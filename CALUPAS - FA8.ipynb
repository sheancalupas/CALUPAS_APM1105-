{
 "cells": [
  {
   "cell_type": "markdown",
   "id": "84ab09b9-576b-4236-9586-742101b37584",
   "metadata": {},
   "source": [
    "# 1. Create an exponent calculator using both iterations and recursion, with rendering time."
   ]
  },
  {
   "cell_type": "code",
   "execution_count": 25,
   "id": "c70bea43-0627-4136-9519-18bad31fc973",
   "metadata": {},
   "outputs": [
    {
     "name": "stdin",
     "output_type": "stream",
     "text": [
      "Enter the base:  3\n",
      "Enter the exponent:  1000\n"
     ]
    },
    {
     "name": "stdout",
     "output_type": "stream",
     "text": [
      "\n",
      "Iterative solution:\n",
      "Result: 1322070819480806636890455259752144365965422032752148167664920368226828597346704899540778313850608061963909777696872582355950954582100618911865342725257953674027620225198320803878014774228964841274390400117588618041128947815623094438061566173054086674490506178125480344405547054397038895817465368254916136220830268563778582290228416398307887896918556404084898937609373242171846359938695516765018940588109060426089671438864102814350385648747165832010614366132173102768902855220001\n",
      "Rendering time: 0.0000000000 seconds\n",
      "\n",
      "Recursive solution:\n",
      "Result: 1322070819480806636890455259752144365965422032752148167664920368226828597346704899540778313850608061963909777696872582355950954582100618911865342725257953674027620225198320803878014774228964841274390400117588618041128947815623094438061566173054086674490506178125480344405547054397038895817465368254916136220830268563778582290228416398307887896918556404084898937609373242171846359938695516765018940588109060426089671438864102814350385648747165832010614366132173102768902855220001\n",
      "Rendering time: 0.0009953976 seconds\n",
      "\n",
      "Answer: Iterative is faster as it avoids function call overhead.\n"
     ]
    }
   ],
   "source": [
    "import time\n",
    "\n",
    "# Iterative\n",
    "def iter_exponent(base, exponent):\n",
    "    result = 1\n",
    "    for _ in range(exponent):\n",
    "        result *= base\n",
    "    return result\n",
    "\n",
    "# Recursive\n",
    "def recur_exponent(base, exponent):\n",
    "    if exponent == 0:\n",
    "        return 1\n",
    "    else:\n",
    "        return base * recur_exponent(base, exponent - 1)\n",
    "\n",
    "base = int(input(\"Enter the base: \"))\n",
    "exponent = int(input(\"Enter the exponent: \"))\n",
    "\n",
    "# Iterative Measure\n",
    "start_time = time.time()\n",
    "iter_result = iter_exponent(base, exponent)\n",
    "end_time = time.time()\n",
    "iter_time = end_time - start_time\n",
    "\n",
    "# Recursive Measure\n",
    "start_time = time.time()\n",
    "recur_result = recur_exponent(base, exponent)\n",
    "end_time = time.time()\n",
    "recur_time = end_time - start_time\n",
    "\n",
    "\n",
    "print(\"\\nIterative solution:\")\n",
    "print(f\"Result: {iter_result}\")\n",
    "print(f\"Rendering time: {iter_time:.10f} seconds\")\n",
    "\n",
    "print(\"\\nRecursive solution:\")\n",
    "print(f\"Result: {recur_result}\")\n",
    "print(f\"Rendering time: {recur_time:.10f} seconds\")\n",
    "\n",
    "# Answering the question:\n",
    "if iter_time < recur_time:\n",
    "    print(\"\\nAnswer: Iterative is faster as it avoids function call overhead.\")\n",
    "else:\n",
    "    print(\"\\nAnswer: Recursive is faster (it rarely happens, but possible in very small inputs).\")\n"
   ]
  },
  {
   "cell_type": "markdown",
   "id": "23a0575d-d5a7-4e98-b367-5a66c9671eb7",
   "metadata": {},
   "source": [
    "# 2. Iteratively and recursively calculate the sum of the first n powers of 2, along with the rendering time of each function using the time module."
   ]
  },
  {
   "cell_type": "code",
   "execution_count": 63,
   "id": "fa0b0ddb-2621-491c-bfed-2c1b06d0d776",
   "metadata": {},
   "outputs": [
    {
     "name": "stdin",
     "output_type": "stream",
     "text": [
      "\n",
      "Enter the value of n:  5001\n"
     ]
    },
    {
     "name": "stdout",
     "output_type": "stream",
     "text": [
      "\n",
      "Iterative solution:\n",
      "Total: 282493406427885207367041933403229466733779235036908223362737617171423633968541502511617825263342305274671206416862732165528407676139958676671942371453279846862103555703730798023755999290263414138746996425262647505106222430745688071901801071909721466836906811151133473603131174810929399280998101699398944715801811235142753236456432868426363041983113354252997303564408348123661878478353722682766588036480451677385451192294010288486562150551258990678187626397933471267212659382047684908251671777313746267962574481960017676147336443608528865821788061578040438881156396976534679536477744559804314840614495141020847691737745193471783611637455592871506037036173282712025702605093453646018500436656036503814680490899726366531275975724397022092725970923899174562238279814456008771885761907917633109135250592173833771549657868899882724833177350653880665122207329113965244413668948439622163744809859006963982753480759651997582823759605435167770997150230598943486938482234140460796206757230465587420581985312889685791023660711466304041608315840180083623903760913411030936698892365463484655371978555215241419051756637532976736697930030949995728239530882866713856024688223531470672787115758429874008695136417331917435528118587185775028585687114094178329752966233231383772407625995111380343784339467510448938064950157595661802643159880254674421388754566879844560548121596469573480869786916240396682202067625013440093219782321400568004201960905928079577408670605238675195724104384560742962264328294373028338181834383818752\n",
      "Rendering time: 0.0193037987 seconds\n",
      "\n",
      "Recursive solution:\n",
      "Total: 282493406427885207367041933403229466733779235036908223362737617171423633968541502511617825263342305274671206416862732165528407676139958676671942371453279846862103555703730798023755999290263414138746996425262647505106222430745688071901801071909721466836906811151133473603131174810929399280998101699398944715801811235142753236456432868426363041983113354252997303564408348123661878478353722682766588036480451677385451192294010288486562150551258990678187626397933471267212659382047684908251671777313746267962574481960017676147336443608528865821788061578040438881156396976534679536477744559804314840614495141020847691737745193471783611637455592871506037036173282712025702605093453646018500436656036503814680490899726366531275975724397022092725970923899174562238279814456008771885761907917633109135250592173833771549657868899882724833177350653880665122207329113965244413668948439622163744809859006963982753480759651997582823759605435167770997150230598943486938482234140460796206757230465587420581985312889685791023660711466304041608315840180083623903760913411030936698892365463484655371978555215241419051756637532976736697930030949995728239530882866713856024688223531470672787115758429874008695136417331917435528118587185775028585687114094178329752966233231383772407625995111380343784339467510448938064950157595661802643159880254674421388754566879844560548121596469573480869786916240396682202067625013440093219782321400568004201960905928079577408670605238675195724104384560742962264328294373028338181834383818752\n",
      "Rendering time: 0.0009953976 seconds\n",
      "\n",
      "Answer: Recursive is faster (it rarely happens, but possible in very small inputs).\n"
     ]
    }
   ],
   "source": [
    "# Iterative\n",
    "def iter_power_of_two(n):\n",
    "    total = 1\n",
    "    for i in range(n):\n",
    "        total += 2 ** i\n",
    "    return total\n",
    "\n",
    "# Recursive\n",
    "def recur_power_of_two(n):\n",
    "    if n == 0:\n",
    "        return 0\n",
    "    else:\n",
    "        return 2 ** n\n",
    "\n",
    "\n",
    "n = int(input(\"\\nEnter the value of n: \"))\n",
    "\n",
    "# Iterative Measure\n",
    "start_time = time.time()\n",
    "iter_total = iter_power_of_two(n)\n",
    "end_time = time.time()\n",
    "iter_time = end_time - start_time\n",
    "\n",
    "# Recursive Measure\n",
    "start_time = time.time()\n",
    "recur_total = recur_power_of_two(n)\n",
    "end_time = time.time()\n",
    "rec_time = end_time - start_time\n",
    "\n",
    "# Output\n",
    "print(\"\\nIterative solution:\")\n",
    "print(f\"Total: {iter_total}\")\n",
    "print(f\"Rendering time: {iter_time:.10f} seconds\")\n",
    "\n",
    "print(\"\\nRecursive solution:\")\n",
    "print(f\"Total: {recur_total}\")\n",
    "print(f\"Rendering time: {recur_time:.10f} seconds\")\n",
    "\n",
    "# Answering the question:\n",
    "if iter_time < rec_time:\n",
    "    print(\"\\nAnswer: Iterative is faster because loops are faster than recursion due to not having to call stack.\")\n",
    "else:\n",
    "    print(\"\\nAnswer: Recursive is faster (it rarely happens, but possible in very small inputs).\")\n"
   ]
  },
  {
   "cell_type": "code",
   "execution_count": null,
   "id": "bdb1189f-fd24-4df1-8373-803354a380fd",
   "metadata": {},
   "outputs": [],
   "source": []
  }
 ],
 "metadata": {
  "kernelspec": {
   "display_name": "Python [conda env:base] *",
   "language": "python",
   "name": "conda-base-py"
  },
  "language_info": {
   "codemirror_mode": {
    "name": "ipython",
    "version": 3
   },
   "file_extension": ".py",
   "mimetype": "text/x-python",
   "name": "python",
   "nbconvert_exporter": "python",
   "pygments_lexer": "ipython3",
   "version": "3.12.7"
  }
 },
 "nbformat": 4,
 "nbformat_minor": 5
}
