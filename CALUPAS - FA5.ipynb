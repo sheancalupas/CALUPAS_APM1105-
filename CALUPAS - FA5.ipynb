{
 "cells": [
  {
   "cell_type": "code",
   "execution_count": null,
   "metadata": {},
   "outputs": [],
   "source": [
    "import turtle\n",
    "import math\n",
    "import random\n",
    "\n",
    "# Constants\n",
    "r = 200  # Radius of the circular boundary\n",
    "speed = 5  # Speed of movement\n",
    "\n",
    "def draw_fence(r):\n",
    "    \"\"\"Draws a circular boundary of radius r.\"\"\"\n",
    "    fence.penup()\n",
    "    fence.goto(0, -r)  # Move to bottom center of the circle\n",
    "    fence.pendown()\n",
    "    fence.circle(r)\n",
    "    fence.penup()\n",
    "    fence.goto(0, 0)\n",
    "    fence.pendown()\n",
    "\n",
    "def bounce_off_fence(t, r):\n",
    "    \"\"\"Makes the turtle bounce off the circular fence.\"\"\"\n",
    "    x, y = t.pos()\n",
    "    distance = math.sqrt(x**2 + y**2)\n",
    "    \n",
    "    if distance >= r:\n",
    "        angle = math.atan2(y, x)  # Angle of the turtle relative to the center\n",
    "        new_heading = 2 * math.degrees(angle) - t.heading()  # Reflect direction\n",
    "        t.setheading(new_heading + 180)  # Reverse direction\n",
    "\n",
    "def move_turtle():\n",
    "    \"\"\"Moves the turtle and makes it bounce off the circular fence.\"\"\"\n",
    "    t.forward(speed)\n",
    "    bounce_off_fence(t, r)\n",
    "    turtle.ontimer(move_turtle, 50)\n",
    "\n",
    "# Initialize turtles\n",
    "fence = turtle.Turtle()\n",
    "fence.hideturtle()\n",
    "t = turtle.Turtle()\n",
    "t.shape(\"turtle\")\n",
    "t.speed(0)\n",
    "\n",
    "# For the circular boundary\n",
    "draw_fence(r)\n",
    "\n",
    "# To randomize the turtle's start and position\n",
    "t.penup()\n",
    "t.goto(random.randint(-r//2, r//2), random.randint(-r//2, r//2))\n",
    "t.pendown()\n",
    "t.setheading(random.randint(0, 360))\n",
    "\n",
    "# Start moving\n",
    "turtle.ontimer(move_turtle, 50)\n",
    "\n",
    "turtle.done()"
   ]
  }
 ],
 "metadata": {
  "kernelspec": {
   "display_name": "Python 3",
   "language": "python",
   "name": "python3"
  },
  "language_info": {
   "codemirror_mode": {
    "name": "ipython",
    "version": 3
   },
   "file_extension": ".py",
   "mimetype": "text/x-python",
   "name": "python",
   "nbconvert_exporter": "python",
   "pygments_lexer": "ipython3",
   "version": "3.12.8"
  }
 },
 "nbformat": 4,
 "nbformat_minor": 2
}
