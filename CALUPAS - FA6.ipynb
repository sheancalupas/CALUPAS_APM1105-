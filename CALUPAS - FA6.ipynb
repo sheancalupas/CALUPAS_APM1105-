{
 "cells": [
  {
   "cell_type": "code",
   "execution_count": 15,
   "metadata": {},
   "outputs": [
    {
     "name": "stdout",
     "output_type": "stream",
     "text": [
      "ack(2,4) = 11\n",
      "\n",
      "Testing function with larger values:\n",
      "ack(3,3) = 61\n",
      "ack(3,4) = 125\n",
      "\n",
      "However, if tested with other larger values such as (4,1) or (4,2), it leads to RecursionError, for it exceeds Python's recursion limit.\n"
     ]
    }
   ],
   "source": [
    "def ack(m, n):\n",
    "    if m == 0:\n",
    "        return n + 1\n",
    "    elif n == 0:\n",
    "        return ack(m - 1, 1)\n",
    "    else:\n",
    "        return ack(m - 1, ack(m, n - 1))\n",
    "\n",
    "# Test the function with ack(2, 4)\n",
    "result = ack(2, 4)\n",
    "print(\"ack(2,4) =\", result)\n",
    "\n",
    "print(\"\\nTesting function with larger values:\")\n",
    "result = ack(3, 3)\n",
    "print(\"ack(3,3) =\", result)\n",
    "result = ack(3, 4)\n",
    "print(\"ack(3,4) =\", result)\n",
    "\n",
    "print(\"\\nHowever, if tested with other larger values such as (4,1) or (4,2), it leads to RecursionError, for it exceeds Python's recursion limit.\")"
   ]
  },
  {
   "cell_type": "code",
   "execution_count": 6,
   "metadata": {},
   "outputs": [
    {
     "name": "stdout",
     "output_type": "stream",
     "text": [
      "Is 1.545049 a power of 1.243? True\n"
     ]
    }
   ],
   "source": [
    "def is_power(a, b):\n",
    "    \"\"\"Checks if a is a power of b, supporting floats.\"\"\"\n",
    "    if a == 1:  # Base case\n",
    "        return True\n",
    "    if b == 0 or a == 0 or a < 0 or b < 0:  # Invalid cases\n",
    "        return False\n",
    "\n",
    "    value = 1\n",
    "    while value < a:\n",
    "        value *= b\n",
    "        if abs(value - a) < 1e-9:\n",
    "            return True\n",
    "    return False\n",
    "\n",
    "# Get user input\n",
    "a = float(input(\"Enter value for a: \"))\n",
    "b = float(input(\"Enter value for b: \"))\n",
    "\n",
    "# Check and display result\n",
    "result = is_power(a, b)\n",
    "print(f\"Is {a} a power of {b}? {result}\")\n"
   ]
  }
 ],
 "metadata": {
  "kernelspec": {
   "display_name": "Python 3",
   "language": "python",
   "name": "python3"
  },
  "language_info": {
   "codemirror_mode": {
    "name": "ipython",
    "version": 3
   },
   "file_extension": ".py",
   "mimetype": "text/x-python",
   "name": "python",
   "nbconvert_exporter": "python",
   "pygments_lexer": "ipython3",
   "version": "3.12.8"
  }
 },
 "nbformat": 4,
 "nbformat_minor": 2
}
