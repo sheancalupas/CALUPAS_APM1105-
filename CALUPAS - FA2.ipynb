{
 "cells": [
  {
   "cell_type": "code",
   "execution_count": null,
   "metadata": {},
   "outputs": [
    {
     "name": "stdout",
     "output_type": "stream",
     "text": [
      "Product of number list: -33600\n"
     ]
    }
   ],
   "source": [
    "#1 Write a Python function to multiply all the numbers in a list.\n",
    "\n",
    "def multiply_numbers(numbers):\n",
    "    result = 1\n",
    "    for num in numbers:\n",
    "        result *= num\n",
    "    return result\n",
    "\n",
    "source_list = [5, 6, -1, 2, 4, -2, -10, 7]\n",
    "print(\"Product of number list:\" , multiply_numbers(source_list))"
   ]
  },
  {
   "cell_type": "code",
   "execution_count": 11,
   "metadata": {},
   "outputs": [
    {
     "name": "stdout",
     "output_type": "stream",
     "text": [
      "+ - + - + - + - +\n",
      "|   |   |   |   |\n",
      "+ - + - + - + - +\n",
      "|   |   |   |   |\n",
      "+ - + - + - + - +\n",
      "|   |   |   |   |\n",
      "+ - + - + - + - +\n",
      "|   |   |   |   |\n",
      "+ - + - + - + - +\n"
     ]
    }
   ],
   "source": [
    "def grid():\n",
    "    for row in range(9):\n",
    "        if row % 2 == 0: #for even rows\n",
    "            print(\"+ - + - + - + - +\")\n",
    "        else:\n",
    "            print(\"|   |   |   |   |\")\n",
    "\n",
    "grid()"
   ]
  }
 ],
 "metadata": {
  "kernelspec": {
   "display_name": "Python 3",
   "language": "python",
   "name": "python3"
  },
  "language_info": {
   "codemirror_mode": {
    "name": "ipython",
    "version": 3
   },
   "file_extension": ".py",
   "mimetype": "text/x-python",
   "name": "python",
   "nbconvert_exporter": "python",
   "pygments_lexer": "ipython3",
   "version": "3.12.8"
  }
 },
 "nbformat": 4,
 "nbformat_minor": 2
}
